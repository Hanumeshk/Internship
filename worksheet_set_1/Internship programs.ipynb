{
 "cells": [
  {
   "cell_type": "markdown",
   "id": "d5a9a8d1",
   "metadata": {},
   "source": [
    "# 11.\tWrite a python program to find the factorial of a number."
   ]
  },
  {
   "cell_type": "code",
   "execution_count": 71,
   "id": "a095c647",
   "metadata": {},
   "outputs": [
    {
     "name": "stdout",
     "output_type": "stream",
     "text": [
      "Input number:6\n",
      "The factorial of  6 is 720\n"
     ]
    }
   ],
   "source": [
    "number=int(input(\"Input number:\"))\n",
    "factorial=1\n",
    "if number<0:\n",
    "    print(\"sorry dont have factorial numbers for negetive values\")\n",
    "elif number == 0:\n",
    "    print(\"factorial value for number 0 is 1\")\n",
    "else:\n",
    "    for i in range(1,number+1):\n",
    "        factorial = factorial* i\n",
    "    print(\"The factorial of \",number,\"is\",factorial)"
   ]
  },
  {
   "cell_type": "markdown",
   "id": "263ffbf4",
   "metadata": {},
   "source": [
    "# 12.\tWrite a python program to find whether a number is prime or composite."
   ]
  },
  {
   "cell_type": "code",
   "execution_count": 72,
   "id": "1aea5e83",
   "metadata": {},
   "outputs": [
    {
     "name": "stdout",
     "output_type": "stream",
     "text": [
      "Input number 89\n",
      "The given number is composite\n"
     ]
    }
   ],
   "source": [
    "prime=int(input(\"Input number \"))\n",
    "if prime>1:\n",
    "    for i in range(2,prime):\n",
    "        if (prime%i)==0:\n",
    "            print(\"The given number is prime\")\n",
    "            break\n",
    "        \n",
    "    else:\n",
    "        print(\"The given number is composite\")\n",
    "\n",
    "elif prime == 0 or 1:\n",
    "    print(prime,\"The given number is neither prime nor composite\")\n",
    "else:\n",
    "    print(\"The given number is composite\")\n",
    "            \n",
    "            \n",
    "            \n",
    "    "
   ]
  },
  {
   "cell_type": "markdown",
   "id": "9c5be150",
   "metadata": {},
   "source": [
    "# 13.\tWrite a python program to check whether a given string is palindrome or not."
   ]
  },
  {
   "cell_type": "code",
   "execution_count": 73,
   "id": "90bfb94b",
   "metadata": {},
   "outputs": [
    {
     "name": "stdout",
     "output_type": "stream",
     "text": [
      "Enter any word in text oyoyo\n",
      "The given word  oyoyo is palindrom\n"
     ]
    }
   ],
   "source": [
    "word=str(input(\"Enter any word in text \"))\n",
    "reverse=reversed(word)\n",
    "if list(reverse)==list(word):\n",
    "    print(\"The given word \",word,\"is palindrom\")\n",
    "else:\n",
    "    print(\"The given word \",word,\"is not palindrom\")\n"
   ]
  },
  {
   "cell_type": "markdown",
   "id": "754717c6",
   "metadata": {},
   "source": [
    "# 14.\tWrite a Python program to get the third side of right-angled triangle from two given sides."
   ]
  },
  {
   "cell_type": "code",
   "execution_count": 56,
   "id": "4308e808",
   "metadata": {},
   "outputs": [
    {
     "name": "stdout",
     "output_type": "stream",
     "text": [
      "Hypotenuse = 5.0\n",
      "Adjacent = 4.0\n",
      "Opposite = 3.0\n",
      "You know all the answer!\n"
     ]
    }
   ],
   "source": [
    "def pythagoras(opposite_side,adjacent_side,hypotenuse):\n",
    "        if opposite_side == str(\"x\"):\n",
    "            return (\"Opposite = \" + str(((hypotenuse**2) - (adjacent_side**2))**0.5))\n",
    "        elif adjacent_side == str(\"x\"):\n",
    "            return (\"Adjacent = \" + str(((hypotenuse**2) - (opposite_side**2))**0.5))\n",
    "        elif hypotenuse == str(\"x\"):\n",
    "            return (\"Hypotenuse = \" + str(((opposite_side**2) + (adjacent_side**2))**0.5))\n",
    "        else:\n",
    "            return \"You know all the answer!\"\n",
    "    \n",
    "print(pythagoras(3,4,'x'))\n",
    "print(pythagoras(3,'x',5))\n",
    "print(pythagoras('x',4,5))\n",
    "print(pythagoras(3,4,5))\n",
    "    "
   ]
  },
  {
   "cell_type": "markdown",
   "id": "f5819541",
   "metadata": {},
   "source": [
    "# 15.\tWrite a python program to print the frequency of each of the characters present in a given string."
   ]
  },
  {
   "cell_type": "code",
   "execution_count": 74,
   "id": "f86b1be5",
   "metadata": {},
   "outputs": [
    {
     "name": "stdout",
     "output_type": "stream",
     "text": [
      "Enter the ony string: shamboo\n",
      "{'s': 1, 'h': 1, 'a': 1, 'm': 1, 'b': 1, 'o': 2}\n"
     ]
    }
   ],
   "source": [
    "\n",
    "i = str\n",
    "i=input (\"Enter the ony string: \")\n",
    "d = {}\n",
    "for c in i:\n",
    "    if c in d:\n",
    "        d[c] = d[c] + 1\n",
    "    else:\n",
    "        d[c] = 1\n",
    "print(d)"
   ]
  },
  {
   "cell_type": "code",
   "execution_count": null,
   "id": "989cef1c",
   "metadata": {
    "collapsed": true
   },
   "outputs": [],
   "source": []
  },
  {
   "cell_type": "code",
   "execution_count": null,
   "id": "6212a900",
   "metadata": {
    "collapsed": true
   },
   "outputs": [],
   "source": []
  }
 ],
 "metadata": {
  "kernelspec": {
   "display_name": "Python 3 (ipykernel)",
   "language": "python",
   "name": "python3"
  },
  "language_info": {
   "codemirror_mode": {
    "name": "ipython",
    "version": 3
   },
   "file_extension": ".py",
   "mimetype": "text/x-python",
   "name": "python",
   "nbconvert_exporter": "python",
   "pygments_lexer": "ipython3",
   "version": "3.9.7"
  }
 },
 "nbformat": 4,
 "nbformat_minor": 5
}
